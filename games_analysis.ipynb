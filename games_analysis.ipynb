{
 "cells": [
  {
   "cell_type": "markdown",
   "metadata": {},
   "source": [
    "# Цели и поставленные задачи"
   ]
  },
  {
   "cell_type": "markdown",
   "metadata": {},
   "source": [
    "Нужно выявить определяющие успешность игры закономерности. Это позволит сделать ставку на потенциально популярный продукт и спланировать рекламные кампании. Для этого необходимо обработать данные в нашей базе данных, выделить актуальные данные, с которыми мы будем работать, определить предпочтения рынков Северной Америки, Японии и остального мира. Какие платформы более интересны в каком рынке, какие жанры предпочтительней. Понять есть ли зависимость продаж от рейтингов игроков или критиков. Провести анализ продаж для каждого региона и понять предпочтения рынков. Также нам необходимо проверить две гипотезы: 1. Средние пользовательские рейтинги платформ Xbox One и PC одинаковые; 2. Средние пользовательские рейтинги жанров Action и Sports разные."
   ]
  },
  {
   "cell_type": "markdown",
   "metadata": {},
   "source": [
    "# Загрузка датасета и библиотек"
   ]
  },
  {
   "cell_type": "code",
   "execution_count": null,
   "metadata": {},
   "outputs": [],
   "source": [
    "import pandas as pd\n",
    "import numpy as np\n",
    "import seaborn as sns\n",
    "import plotly.express as px\n",
    "from scipy import stats as st\n",
    "import matplotlib.pyplot as plt\n",
    "from IPython.display import display\n",
    "from scipy.stats import levene"
   ]
  },
  {
   "cell_type": "code",
   "execution_count": null,
   "metadata": {},
   "outputs": [],
   "source": [
    "try:\n",
    "    games = pd.read_csv('/datasets/games.csv')\n",
    "except:\n",
    "    games = pd.read_csv('games.csv')\n",
    "games.info()\n",
    "games"
   ]
  },
  {
   "cell_type": "markdown",
   "metadata": {},
   "source": [
    "Довольно большое количество пропусков. Названия столбцов с заглавными и строчными буквами, что неудобно для работы с ними. Рейтинги в разных типах (два из трёх в object), что необходимо исправить."
   ]
  },
  {
   "cell_type": "markdown",
   "metadata": {},
   "source": [
    "# Подготовка данных"
   ]
  },
  {
   "cell_type": "markdown",
   "metadata": {},
   "source": [
    "## Название столбцов"
   ]
  },
  {
   "cell_type": "code",
   "execution_count": null,
   "metadata": {},
   "outputs": [],
   "source": [
    "#приведём все названия столбцов к нижнему регистру\n",
    "games.columns = games.columns.str.lower()\n",
    "games.info()"
   ]
  },
  {
   "cell_type": "markdown",
   "metadata": {},
   "source": [
    "## Типы данных"
   ]
  },
  {
   "cell_type": "code",
   "execution_count": null,
   "metadata": {},
   "outputs": [],
   "source": [
    "games.loc[games['year_of_release'].isnull() == True]"
   ]
  },
  {
   "cell_type": "code",
   "execution_count": null,
   "metadata": {
    "scrolled": true
   },
   "outputs": [],
   "source": [
    "#не удалось привести значения к int в связи с пропусками в значениях, которые мы не можем корректно заполнить\n",
    "#заменим тип на Int64, которые позволяет пропуски\n",
    "games['year_of_release'] = games['year_of_release'].astype('Int64')\n",
    "\n",
    "#games['user_score'] = games['user_score'].astype('float')\n",
    "len(games.query('user_score == \"tbd\"')) / len(games)"
   ]
  },
  {
   "cell_type": "code",
   "execution_count": null,
   "metadata": {},
   "outputs": [],
   "source": [
    "#в оценках пользователей есть значения 'tbd', говорящие, что рейтинг ещё не проставлен. заменим эти значения на пропуски.\n",
    "games['user_score'] = games['user_score'].replace('tbd', 'nan')\n",
    "games['user_score'] = games['user_score'].astype('float')"
   ]
  },
  {
   "cell_type": "code",
   "execution_count": null,
   "metadata": {},
   "outputs": [],
   "source": [
    "#оценки критиков поделим на 10, чтобы привести их к значениям оценок пользователей\n",
    "games['critic_score'] = games['critic_score'] / 10"
   ]
  },
  {
   "cell_type": "markdown",
   "metadata": {},
   "source": [
    "## Поиск дубликатов и пропусков"
   ]
  },
  {
   "cell_type": "code",
   "execution_count": null,
   "metadata": {
    "scrolled": true
   },
   "outputs": [],
   "source": [
    "games.duplicated().sum()"
   ]
  },
  {
   "cell_type": "code",
   "execution_count": null,
   "metadata": {
    "scrolled": true
   },
   "outputs": [],
   "source": [
    "games.isnull().sum()"
   ]
  },
  {
   "cell_type": "code",
   "execution_count": null,
   "metadata": {},
   "outputs": [],
   "source": [
    "#две игры без названия\n",
    "games.loc[games['name'].isnull() == True]"
   ]
  },
  {
   "cell_type": "code",
   "execution_count": null,
   "metadata": {},
   "outputs": [],
   "source": [
    "#довольно старые, без рейтинга. сбросим их.\n",
    "games.dropna(subset=['name'], inplace=True)\n",
    "games.isnull().sum()"
   ]
  },
  {
   "cell_type": "code",
   "execution_count": null,
   "metadata": {},
   "outputs": [],
   "source": [
    "#для анализа будет необходим год выхода игры, а затем мы будем делать по актуальности данных. \n",
    "#так как корректно заполнить год нет возможности, то 269 из 16713 записей можно выкинуть.\n",
    "games.dropna(subset=['year_of_release'], inplace=True)"
   ]
  },
  {
   "cell_type": "code",
   "execution_count": null,
   "metadata": {
    "scrolled": true
   },
   "outputs": [],
   "source": [
    "games.isnull().sum()"
   ]
  },
  {
   "cell_type": "markdown",
   "metadata": {},
   "source": [
    "Пропуски рейтнигов нет возможности заполнить данными, которые потом нам не исказят картину корелляции между рейтингами и продажами."
   ]
  },
  {
   "cell_type": "markdown",
   "metadata": {},
   "source": [
    "## Создание столбца с суммарными продажами"
   ]
  },
  {
   "cell_type": "code",
   "execution_count": null,
   "metadata": {},
   "outputs": [],
   "source": [
    "games['total_sales'] = games['na_sales'] + games['eu_sales'] + games['jp_sales'] + games['other_sales']\n",
    "games"
   ]
  },
  {
   "cell_type": "markdown",
   "metadata": {},
   "source": [
    "# Анализ данных"
   ]
  },
  {
   "cell_type": "markdown",
   "metadata": {},
   "source": [
    "## Выход игр по годам"
   ]
  },
  {
   "cell_type": "code",
   "execution_count": null,
   "metadata": {
    "scrolled": false
   },
   "outputs": [],
   "source": [
    "#построим гистограмму распределения выхода игр по годам\n",
    "fig = px.histogram(games, x = 'year_of_release', title='Распределение выхода игр по годам', marginal = 'box')\n",
    "fig.show()"
   ]
  },
  {
   "cell_type": "markdown",
   "metadata": {},
   "source": [
    "Как мы видим, игровая индустрия пошла в рост с 1991 года и пиком по количеству релизов игр был 2008 год."
   ]
  },
  {
   "cell_type": "markdown",
   "metadata": {},
   "source": [
    "## Суммарные продажи по годам и платформам"
   ]
  },
  {
   "cell_type": "code",
   "execution_count": null,
   "metadata": {
    "scrolled": false
   },
   "outputs": [],
   "source": [
    "#выведем две сводные таблицы: суммарных продаж за каждый год и суммарных продаж по каждой платформе\n",
    "display(games\n",
    "       .pivot_table(index = 'year_of_release', values = 'total_sales', aggfunc = 'sum')\n",
    "       .sort_values(by = 'total_sales', ascending = False)\n",
    "        .head(10)\n",
    ")\n",
    "\n",
    "display(games\n",
    "        .pivot_table(index = 'platform', values = 'total_sales', aggfunc='sum')\n",
    "        .sort_values(by = 'total_sales', ascending = False)\n",
    "        .head(10)\n",
    ")"
   ]
  },
  {
   "cell_type": "markdown",
   "metadata": {},
   "source": [
    "Как мы видим, лидером по продажам явлется платформа PlayStation 2. 2 и 3 место занимают XBox 360 и её прямой конкурент PlayStation 3 с небольшой разницой."
   ]
  },
  {
   "cell_type": "code",
   "execution_count": null,
   "metadata": {},
   "outputs": [],
   "source": [
    "#создадим функцию для вызова heatmap\n",
    "def pivot_heatmap(data, col, val):\n",
    "    fig, ax = plt.subplots(figsize=(10,10))\n",
    "    sns.heatmap(data.pivot_table(index = 'year_of_release', columns = col, values = val, aggfunc='sum'),\n",
    "        square = True, linewidths=.5, ax=ax\n",
    "    )\n",
    "    fig.show()\n",
    "    \n",
    "#посмотрим на общую картину продаж на платформах в разные годы    \n",
    "pivot_heatmap(games, 'platform', 'total_sales')"
   ]
  },
  {
   "cell_type": "markdown",
   "metadata": {},
   "source": [
    "Как можно увидеть из карты немногие платформы держатся на рынке более 10 лет (за исключение ПК, конечно). При этом новое поколение пересекается с предыдущим на протяжении 4-5 лет. Пиковые значения продаж приходят на платформу как раз на конец существование предыдущего поколения, то есть на 4-5 год."
   ]
  },
  {
   "cell_type": "code",
   "execution_count": null,
   "metadata": {},
   "outputs": [],
   "source": [
    "(games.loc[:,['na_sales', 'jp_sales', 'eu_sales', 'other_sales']]\n",
    "    .sum()\n",
    "    .plot.pie(\n",
    "    autopct=\"%.2f\",\n",
    "    fontsize=20,\n",
    "    figsize=(10, 10),\n",
    "    subplots=True,\n",
    "    title='Доли продаж по рынкам в мире')\n",
    ")"
   ]
  },
  {
   "cell_type": "markdown",
   "metadata": {},
   "source": [
    "Североамериканский рынок самый крупный по продажам из выборки и составляет почти половину от продаж во всё мире."
   ]
  },
  {
   "cell_type": "code",
   "execution_count": null,
   "metadata": {},
   "outputs": [],
   "source": [
    "#нас интересуют игры и платформы за последние 4 года, чтобы захватить пиковые продажи на предыдущем поколении платформ\n",
    "#эти платформы вероятно на следующий год или через один уже перестанут выпускать релизы, но дадут нам акутальную информацию\n",
    "actual_data = games.loc[games['year_of_release'] > 2012]\n",
    "actual_data"
   ]
  },
  {
   "cell_type": "markdown",
   "metadata": {},
   "source": [
    "## Статистики продаж"
   ]
  },
  {
   "cell_type": "code",
   "execution_count": null,
   "metadata": {},
   "outputs": [],
   "source": [
    "#создадим функцию с выводом статистики, гистрограмм и линейным графиком среднего за год\n",
    "def analysis(df, col, range_max):\n",
    "    \n",
    "    # статистики\n",
    "    pivot = df.pivot_table(index = 'platform', values = col, aggfunc = ['mean', 'var', 'std','sum'])\n",
    "    print('Статистики по ', col)\n",
    "    display(pivot)\n",
    "    \n",
    "    # гистограмма\n",
    "    fig = px.histogram(df, x = col, color = 'platform', marginal = 'box', title = 'Распределение '+col, range_x=[0, range_max])\n",
    "    fig.show()\n",
    "    \n",
    "    # сумма за год\n",
    "    fig = px.line(df.pivot_table(index = ['platform', 'year_of_release'], values = col, aggfunc = 'sum').reset_index(), x = 'year_of_release', y = col, color = 'platform', title = 'Суммарное по '+col)\n",
    "    fig.show()"
   ]
  },
  {
   "cell_type": "code",
   "execution_count": null,
   "metadata": {},
   "outputs": [],
   "source": [
    "#применим её к нашим данным за последние 6 лет\n",
    "analysis(actual_data, 'total_sales', 3)"
   ]
  },
  {
   "cell_type": "markdown",
   "metadata": {},
   "source": [
    "Из статистики видно, что при средних менее 1 млн копий в год, дисперсия довольна высока (более 2) на некоторых платформах. Что означает частый выпуск хитовых игр, далеко расположенных от среднего.\n",
    "\n",
    "Из ящиков видно, что значения широко раскинуты у таких платформ, как XBox360, PS3, PS4 и WiiU. А также очень большое количество \"выбросов\" (хитовые игры не попали в график дабы можно было усмотреть сам ящик)."
   ]
  },
  {
   "cell_type": "markdown",
   "metadata": {},
   "source": [
    "Суммарные продажи на новых платформах, вышедших в 2013, резко пошли в гору, но к 2016 видно нисходящий тренд, что может означать упадок в игровой индустрии либо неполные данные за год, посмотрев так же на средние значения продаж."
   ]
  },
  {
   "cell_type": "code",
   "execution_count": null,
   "metadata": {},
   "outputs": [],
   "source": [
    "def sales_pie(data, val):\n",
    "    (actual_data.pivot_table(index='platform', values=val, aggfunc='sum')\n",
    "        .sort_values(by=val, ascending=False)\n",
    "        .head(5)\n",
    "        .plot.pie(\n",
    "        autopct=\"%.2f\",\n",
    "        fontsize=20,\n",
    "        figsize=(10, 10),\n",
    "        subplots=True,\n",
    "        title='Доли продаж на платформах в '+val+' за последние 4 года')\n",
    "    )\n",
    "sales_pie(actual_data, 'total_sales')"
   ]
  },
  {
   "cell_type": "markdown",
   "metadata": {},
   "source": [
    "PS4 уверенно взяла верх по продажам во всём мире - 1/3 от всех продаж. Новое покололение приставок от Microsoft совсем немного (на 2.5%) обошло предущие модели, хотя старт продаж консолей PS и Xbox был в одно время. Возможно у пользователей есть какие-то сомнения или же для Xbox просто меньше игр."
   ]
  },
  {
   "cell_type": "markdown",
   "metadata": {},
   "source": [
    "## Выделение акутальных платформ"
   ]
  },
  {
   "cell_type": "code",
   "execution_count": null,
   "metadata": {},
   "outputs": [],
   "source": [
    "#оставим только те платформы, которые существуют на последний год\n",
    "actual_platforms = games.loc[games['year_of_release'] == 2016]['platform'].unique()\n",
    "actual_platforms"
   ]
  },
  {
   "cell_type": "code",
   "execution_count": null,
   "metadata": {},
   "outputs": [],
   "source": [
    "actual_data = actual_data.loc[actual_data['platform'].isin(actual_platforms)]\n",
    "actual_data"
   ]
  },
  {
   "cell_type": "markdown",
   "metadata": {},
   "source": [
    "## Зависимость продаж от рейтингов"
   ]
  },
  {
   "cell_type": "code",
   "execution_count": null,
   "metadata": {
    "scrolled": false
   },
   "outputs": [],
   "source": [
    "#выведем матрицу корреляции для продаж и рейтингов\n",
    "pd.plotting.scatter_matrix(actual_data.loc[:, ['critic_score', 'user_score', 'total_sales']], figsize=(10,10))\n",
    "actual_data.loc[:, ['critic_score', 'user_score', 'total_sales']].corr()"
   ]
  },
  {
   "cell_type": "markdown",
   "metadata": {},
   "source": [
    "Как видно между оценками критиков и суммарных продаж зависимость чуть больше, чем пользователей, но всё равно не очень большая. При этом корреляция между рейтингами игроков и критиков более явная."
   ]
  },
  {
   "cell_type": "code",
   "execution_count": null,
   "metadata": {
    "scrolled": false
   },
   "outputs": [],
   "source": [
    "#возьмём PS4 как самую популярную по продажам\n",
    "pd.plotting.scatter_matrix(actual_data.query('platform == \"PS4\"').loc[:, ['critic_score', 'user_score', 'total_sales']], figsize=(10,10))\n",
    "actual_data.query('platform == \"PS4\"').loc[:, ['critic_score', 'user_score', 'total_sales']].corr()"
   ]
  },
  {
   "cell_type": "markdown",
   "metadata": {},
   "source": [
    "Отдельно для PS4 корелляция продаж и рейтингов критиков выше чем со всеми платформами вместе взятыми."
   ]
  },
  {
   "cell_type": "code",
   "execution_count": null,
   "metadata": {
    "scrolled": false
   },
   "outputs": [],
   "source": [
    "pd.plotting.scatter_matrix(actual_data.query('platform == \"PC\"').loc[:, ['critic_score', 'user_score', 'total_sales']], figsize=(10,10))\n",
    "actual_data.query('platform == \"PC\"').loc[:, ['critic_score', 'user_score', 'total_sales']].corr()"
   ]
  },
  {
   "cell_type": "markdown",
   "metadata": {},
   "source": [
    "А вот для PC зависимость ниже. При этом оценки игроков всё также мало говорят о продажах."
   ]
  },
  {
   "cell_type": "code",
   "execution_count": null,
   "metadata": {},
   "outputs": [],
   "source": [
    "# статистики\n",
    "pivot = actual_data.pivot_table(index = 'genre', values = 'total_sales', aggfunc = ['mean', 'var', 'std','count'])\n",
    "print('Статистики по жанрам')\n",
    "display(pivot)\n",
    "    \n",
    "# гистограмма\n",
    "fig = px.histogram(actual_data, x = 'total_sales', color = 'genre', marginal = 'box', title = 'Распределение продаж в жанрах', range_x=[0, 4])\n",
    "fig.show()\n",
    "    \n",
    "# сумма за год\n",
    "fig = px.line(actual_data.pivot_table(index = ['genre', 'year_of_release'], values = 'total_sales', aggfunc = 'sum').reset_index(), x = 'year_of_release', y = 'total_sales', color = 'genre', title = 'Суммарное по продажам в жанрах')\n",
    "fig.show()"
   ]
  },
  {
   "cell_type": "markdown",
   "metadata": {},
   "source": [
    "Action игр за последние 4 года выпустили больше всего и своим конвеером игры делают кассу, но шутеры продаются гораздо лучше и средние и медианные продажи в 3 раза выше. Аутсайдерами являются игры класса Adventure, при том что их вышло больше шутеров, средние продажи в более чем 10 раз ниже."
   ]
  },
  {
   "cell_type": "markdown",
   "metadata": {},
   "source": [
    "# Портрет регионов"
   ]
  },
  {
   "cell_type": "markdown",
   "metadata": {},
   "source": [
    "## Северная Америка"
   ]
  },
  {
   "cell_type": "code",
   "execution_count": null,
   "metadata": {
    "scrolled": false
   },
   "outputs": [],
   "source": [
    "# выведем heatmap суммарных продаж в Северной Америке по жанрам\n",
    "pivot_heatmap(actual_data, 'genre', 'na_sales')"
   ]
  },
  {
   "cell_type": "markdown",
   "metadata": {},
   "source": [
    "В Северной Америке самыми популярными жанрами в последние годы являются Action, Shooter и Sports. Тем не менее также видно спад в продажах к 2016 году."
   ]
  },
  {
   "cell_type": "code",
   "execution_count": null,
   "metadata": {
    "scrolled": false
   },
   "outputs": [],
   "source": [
    "#статистики\n",
    "analysis(actual_data, 'na_sales', 2)"
   ]
  },
  {
   "cell_type": "markdown",
   "metadata": {},
   "source": [
    "Из ящиков видно, что редние продажи по платформам Microsoft (Xbox и Xbox360) выше чем у конкурентов и разброс значений выше. Но опять же средния значения продаж на всех платформах падают к 2016 году."
   ]
  },
  {
   "cell_type": "code",
   "execution_count": null,
   "metadata": {
    "scrolled": false
   },
   "outputs": [],
   "source": [
    "#доли продаж по платформам\n",
    "sales_pie(actual_data, 'na_sales')"
   ]
  },
  {
   "cell_type": "markdown",
   "metadata": {},
   "source": [
    "Доля продаж у XBox 360, относительно других платформ из топ-5, выше всего - треть. Суммарно по платформам PlayStation и XBox разница не очень велика 40% против 47%."
   ]
  },
  {
   "cell_type": "code",
   "execution_count": null,
   "metadata": {},
   "outputs": [],
   "source": [
    "#продажи по рейтингам в СА\n",
    "pivot_heatmap(actual_data, 'rating', 'na_sales')"
   ]
  },
  {
   "cell_type": "markdown",
   "metadata": {},
   "source": [
    "В Северной Америке более продаются игры с рейтингом М, что означает старше 17 лет."
   ]
  },
  {
   "cell_type": "markdown",
   "metadata": {},
   "source": [
    "## Япония"
   ]
  },
  {
   "cell_type": "code",
   "execution_count": null,
   "metadata": {},
   "outputs": [],
   "source": [
    "# heatmap по жанрам\n",
    "pivot_heatmap(actual_data, 'genre', 'jp_sales')"
   ]
  },
  {
   "cell_type": "markdown",
   "metadata": {},
   "source": [
    "Как видно, у Японии самые популярные жанры несколько отличаются от Северной Америки. Здесь лидируют RPG и Action. Даже при том, что продажи также к 2016 году снизились по этим жанрам, они всё равно остаются популярными."
   ]
  },
  {
   "cell_type": "code",
   "execution_count": null,
   "metadata": {},
   "outputs": [],
   "source": [
    "#статистики по Японии\n",
    "analysis(actual_data, 'jp_sales', 0.5)"
   ]
  },
  {
   "cell_type": "markdown",
   "metadata": {},
   "source": [
    "Самые высокие средние и суммарные показатели у 3DS. Из десперсии видно, что показатели продаж на ней гораздо шире раскиданы, чем на других платформах. Из линейного графика видно, что WiiU довольно популярна, но, вероятно, спад на рынке снизил средние продажи до показателей других платформ, таких как PS Vita, PS3 и PS4."
   ]
  },
  {
   "cell_type": "code",
   "execution_count": null,
   "metadata": {},
   "outputs": [],
   "source": [
    "#доли продаж по платформам\n",
    "sales_pie(actual_data, 'jp_sales')"
   ]
  },
  {
   "cell_type": "markdown",
   "metadata": {},
   "source": [
    "В Японии безусловным лидером по продажам является платформа компании Nintendo - 3DS. Американские платформы имеют очень малую популярность, а на ПК вообще нет продаж (удивительно).\n",
    "Топ 5 платформ состоит изключительно из приставок японского производства, где доля 3DS - половина продаж."
   ]
  },
  {
   "cell_type": "code",
   "execution_count": null,
   "metadata": {
    "scrolled": false
   },
   "outputs": [],
   "source": [
    "#продажи по рейтингам в Японии\n",
    "pivot_heatmap(actual_data, 'rating', 'jp_sales')"
   ]
  },
  {
   "cell_type": "markdown",
   "metadata": {},
   "source": [
    "В Японии большая часть игр продаётся с рейтингом от 14 лет. Популяризация игр начинается от 6 лет."
   ]
  },
  {
   "cell_type": "markdown",
   "metadata": {},
   "source": [
    "## Европа"
   ]
  },
  {
   "cell_type": "code",
   "execution_count": null,
   "metadata": {},
   "outputs": [],
   "source": [
    "#heatmap по жанрам\n",
    "pivot_heatmap(actual_data, 'genre', 'eu_sales')"
   ]
  },
  {
   "cell_type": "markdown",
   "metadata": {},
   "source": [
    "В Европе картина ровно такая же как и в Америке. Action, Shooters, Sports."
   ]
  },
  {
   "cell_type": "code",
   "execution_count": null,
   "metadata": {},
   "outputs": [],
   "source": [
    "# статистики\n",
    "analysis(actual_data, 'eu_sales', 1)"
   ]
  },
  {
   "cell_type": "markdown",
   "metadata": {},
   "source": [
    "В Европе более успешно продаются игры на PS. Как старого так и нового поколения. На распределении смутил ящик Wii, но оказалось там из-за небольшого количества продаж одна игра в 1.5 млн копий (25% от всех продаж) создала такую картину."
   ]
  },
  {
   "cell_type": "code",
   "execution_count": null,
   "metadata": {},
   "outputs": [],
   "source": [
    "# топ-5 платформ и доли продаж\n",
    "sales_pie(actual_data, 'eu_sales')"
   ]
  },
  {
   "cell_type": "code",
   "execution_count": null,
   "metadata": {},
   "outputs": [],
   "source": [
    "#продажи по рейтингам в Европе\n",
    "pivot_heatmap(actual_data, 'rating', 'other_sales')"
   ]
  },
  {
   "cell_type": "markdown",
   "metadata": {},
   "source": [
    "Тут картина опять напоминает продажи в СА. От 17 игры продаются в большем количестве."
   ]
  },
  {
   "cell_type": "markdown",
   "metadata": {},
   "source": [
    "## Остальной мир"
   ]
  },
  {
   "cell_type": "code",
   "execution_count": null,
   "metadata": {
    "scrolled": false
   },
   "outputs": [],
   "source": [
    "#heatmap по жанрам\n",
    "pivot_heatmap(actual_data, 'genre', 'other_sales')"
   ]
  },
  {
   "cell_type": "markdown",
   "metadata": {},
   "source": [
    "Из карты видно, что остальной мир по предпочтениям близок к Северной Америке. Тут также самыми популярными являются жанры Action, Shooter и Sports. В жанре RPG продажи ниже, но жанр тоже довольно популярен."
   ]
  },
  {
   "cell_type": "code",
   "execution_count": null,
   "metadata": {
    "scrolled": false
   },
   "outputs": [],
   "source": [
    "# статистики\n",
    "analysis(actual_data, 'other_sales', 0.3)"
   ]
  },
  {
   "cell_type": "markdown",
   "metadata": {},
   "source": [
    "Из ящиков и дисперсии видны широко раскинутые значения на PS3 и PS4. Так же на этих платформах в остальном мире выше средние продажи. Из линейного графика можно наблюдать популярность PS4 на старте продаж платформы и несмотря на спад на игровом рынке в 2016 году средние продажи вдвое больше чем у любого другого конкурента."
   ]
  },
  {
   "cell_type": "code",
   "execution_count": null,
   "metadata": {},
   "outputs": [],
   "source": [
    "# топ-5 платформ и доли продаж\n",
    "sales_pie(actual_data, 'other_sales')"
   ]
  },
  {
   "cell_type": "markdown",
   "metadata": {},
   "source": [
    "Доли продаж на топ-5 платформах в остальном мире похож на североамериканский, если поменять местами платформы Microsoft и Sony местами. В остальном мире более популярны приставки Sony."
   ]
  },
  {
   "cell_type": "code",
   "execution_count": null,
   "metadata": {},
   "outputs": [],
   "source": [
    "#продажи по рейтингам в остально мире\n",
    "pivot_heatmap(actual_data, 'rating', 'other_sales')"
   ]
  },
  {
   "cell_type": "markdown",
   "metadata": {},
   "source": [
    "Во всём остально мире по продажам явно лидируют игры для взрослых (от 17 лет)."
   ]
  },
  {
   "cell_type": "markdown",
   "metadata": {},
   "source": [
    "# Проверка гипотез"
   ]
  },
  {
   "cell_type": "markdown",
   "metadata": {},
   "source": [
    "## Средние пользовательские рейтинги платформ Xbox One и PC одинаковые"
   ]
  },
  {
   "cell_type": "markdown",
   "metadata": {},
   "source": [
    "Выдвенем гипотезу о том, что средние пользовательские рейтинги платформ Xbox One и PC одинаковые. Тогда альтернативной гипотезой будет, что они разные."
   ]
  },
  {
   "cell_type": "code",
   "execution_count": null,
   "metadata": {},
   "outputs": [],
   "source": [
    "#проведём тест Левена на сравнение дисперсий совокупностей \n",
    "stat, p = levene(actual_data.loc[actual_data['platform'] == 'PC']['user_score'].dropna(), \n",
    "    actual_data.loc[actual_data['platform'] == 'XOne']['user_score'].dropna())\n",
    "p"
   ]
  },
  {
   "cell_type": "markdown",
   "metadata": {},
   "source": [
    "p меньше уровня значимости, следовательно дисперсии не равны и не принадлежат одной генеральной совокупности. Следовательно в тесте Стьюдента необходио указать это."
   ]
  },
  {
   "cell_type": "code",
   "execution_count": null,
   "metadata": {},
   "outputs": [],
   "source": [
    "alpha = .05 #критический уровень статистической значимости возьмём 5%\n",
    "\n",
    "results = st.ttest_ind(\n",
    "    actual_data.loc[actual_data['platform'] == 'PC']['user_score'].dropna(), \n",
    "    actual_data.loc[actual_data['platform'] == 'XOne']['user_score'].dropna(),\n",
    "    equal_var=False)\n",
    "\n",
    "print('p-значение:', results.pvalue)\n",
    "\n",
    "if (results.pvalue < alpha):\n",
    "    print(\"Отвергаем нулевую гипотезу\")\n",
    "else:\n",
    "    print(\"Не получилось отвергнуть нулевую гипотезу\") "
   ]
  },
  {
   "cell_type": "markdown",
   "metadata": {},
   "source": [
    "p-значение очень высоко. это означает, что даже при том, что среднее по рейтингам отличается, шанс получить такое различие около 62%.\n",
    "\n",
    "Нулевую гипотезу не отвергаем. Шанс случайно получить различия в средних почти 15%."
   ]
  },
  {
   "cell_type": "markdown",
   "metadata": {},
   "source": [
    "## Средние пользовательские рейтинги жанров Action и Sports разные."
   ]
  },
  {
   "cell_type": "markdown",
   "metadata": {},
   "source": [
    "Нулевая гипотеза звучит как \"Средние пользовательские рейтинги жанров Action и Sports одинаковые\"\n",
    "Нас интересует альтернативная гипотеза, что средние значения жанров разные. "
   ]
  },
  {
   "cell_type": "code",
   "execution_count": null,
   "metadata": {},
   "outputs": [],
   "source": [
    "#проведём тест Левена на сравнение дисперсий совокупностей \n",
    "stat, p = levene(actual_data.loc[actual_data['genre'] == 'Action']['user_score'].dropna(), \n",
    "    actual_data.loc[actual_data['genre'] == 'Sports']['user_score'].dropna())\n",
    "p"
   ]
  },
  {
   "cell_type": "markdown",
   "metadata": {},
   "source": [
    "p меньше уровня значимости, следовательно дисперсии не равны и не принадлежат одной генеральной совокупности."
   ]
  },
  {
   "cell_type": "code",
   "execution_count": null,
   "metadata": {},
   "outputs": [],
   "source": [
    "results = st.ttest_ind(\n",
    "    actual_data.loc[actual_data['genre'] == 'Action']['user_score'].dropna(), \n",
    "    actual_data.loc[actual_data['genre'] == 'Sports']['user_score'].dropna(),\n",
    "    equal_var=False)\n",
    "\n",
    "print('p-значение:', results.pvalue)\n",
    "\n",
    "if (results.pvalue < alpha):\n",
    "    print(\"Отвергаем нулевую гипотезу\")\n",
    "else:\n",
    "    print(\"Не получилось отвергнуть нулевую гипотезу\") "
   ]
  },
  {
   "cell_type": "markdown",
   "metadata": {},
   "source": [
    "Полученное значение p-value говорит о том, что с такой маленькой вероятностью ( 2.4е-20 %) такое или большее различие можно получить случайно, т.е. вероятно они неслучайны. Это явно слишком маленькая вероятность, поэтому отвергаем нулевую гипотезу на уровне значимости 0,05 и принимаем альтернативную гипотезу: средние пользовательские рейтинги жанров Action и Sports разные."
   ]
  },
  {
   "cell_type": "markdown",
   "metadata": {},
   "source": [
    "# Общий вывод"
   ]
  },
  {
   "cell_type": "markdown",
   "metadata": {},
   "source": [
    "Как мы выяснили в Северной Америке предпочтения по жанрам и платформам схожы с предпочтениями во всём мире (не включая Японию). В Америке чуть более популярны приставки Microsoft, в остальном мире Sony, в Японии платформы собственного производства (лидером является Nintendo 3DS). Самый популярный жанр во всём мире является Action. В Японии это также RPG. В остальном мире, включая СА это Shooter и Sports. Продажи по возрастному рейтингу гораздо выше для игр от 17 лет. Продажи не зависят от рейтингов игроков и критиков. Североамериканский рынок самый крупный по продажам за последние 4 года и составляет почти 2/3 от продаж во всё мире, а при том что рынок в остальном мире схож по вкусам с СА, то при формировании стратегии рекламы стоит ориентироваться на их вкусы ии предпочтения. Для Японии же нужен индивидуальный подход.\n",
    "\n",
    "Мы выдвинули две гипотезы:\n",
    "1. Что средние пользовательские рейтинги платформ Xbox One и PC одинаковые. Их отличия несущественны и могут быть на 62% случайны.\n",
    "2. Средние пользовательские рейтинги жанров Action и Sports разные на уровне значимости 0.05%. Эту гипотезу мы подтвердили."
   ]
  },
  {
   "cell_type": "code",
   "execution_count": null,
   "metadata": {},
   "outputs": [],
   "source": []
  }
 ],
 "metadata": {
  "ExecuteTimeLog": [
   {
    "duration": 1905,
    "start_time": "2021-09-27T13:13:05.050Z"
   },
   {
    "duration": 87,
    "start_time": "2021-09-27T13:13:06.958Z"
   },
   {
    "duration": 22,
    "start_time": "2021-09-27T13:13:07.049Z"
   },
   {
    "duration": 58,
    "start_time": "2021-09-27T13:13:07.074Z"
   },
   {
    "duration": 13,
    "start_time": "2021-09-27T13:13:07.134Z"
   },
   {
    "duration": 10,
    "start_time": "2021-09-27T13:13:07.149Z"
   },
   {
    "duration": 9,
    "start_time": "2021-09-27T13:13:07.162Z"
   },
   {
    "duration": 68,
    "start_time": "2021-09-27T13:13:07.177Z"
   },
   {
    "duration": 12,
    "start_time": "2021-09-27T13:13:07.248Z"
   },
   {
    "duration": 27,
    "start_time": "2021-09-27T13:13:07.263Z"
   },
   {
    "duration": 28,
    "start_time": "2021-09-27T13:13:07.322Z"
   },
   {
    "duration": 13,
    "start_time": "2021-09-27T13:13:07.353Z"
   },
   {
    "duration": 22,
    "start_time": "2021-09-27T13:13:07.369Z"
   },
   {
    "duration": 64,
    "start_time": "2021-09-27T13:13:07.394Z"
   },
   {
    "duration": 1584,
    "start_time": "2021-09-27T13:13:07.461Z"
   },
   {
    "duration": 93,
    "start_time": "2021-09-27T13:13:09.047Z"
   },
   {
    "duration": 1448,
    "start_time": "2021-09-27T13:13:09.143Z"
   },
   {
    "duration": 399,
    "start_time": "2021-09-27T13:13:10.594Z"
   },
   {
    "duration": 46,
    "start_time": "2021-09-27T13:13:10.995Z"
   },
   {
    "duration": 51,
    "start_time": "2021-09-27T13:13:11.044Z"
   },
   {
    "duration": 1276,
    "start_time": "2021-09-27T13:13:11.098Z"
   },
   {
    "duration": 361,
    "start_time": "2021-09-27T13:13:12.377Z"
   },
   {
    "duration": 12,
    "start_time": "2021-09-27T13:13:12.746Z"
   },
   {
    "duration": 77,
    "start_time": "2021-09-27T13:13:12.762Z"
   },
   {
    "duration": 2834,
    "start_time": "2021-09-27T13:13:12.843Z"
   },
   {
    "duration": 2174,
    "start_time": "2021-09-27T13:13:15.680Z"
   },
   {
    "duration": 1413,
    "start_time": "2021-09-27T13:13:17.857Z"
   },
   {
    "duration": 1449,
    "start_time": "2021-09-27T13:13:19.273Z"
   },
   {
    "duration": 563,
    "start_time": "2021-09-27T13:13:20.725Z"
   },
   {
    "duration": 1267,
    "start_time": "2021-09-27T13:13:21.291Z"
   },
   {
    "duration": 422,
    "start_time": "2021-09-27T13:13:22.561Z"
   },
   {
    "duration": 501,
    "start_time": "2021-09-27T13:13:22.987Z"
   },
   {
    "duration": 582,
    "start_time": "2021-09-27T13:13:23.491Z"
   },
   {
    "duration": 1258,
    "start_time": "2021-09-27T13:13:24.075Z"
   },
   {
    "duration": 351,
    "start_time": "2021-09-27T13:13:25.336Z"
   },
   {
    "duration": 502,
    "start_time": "2021-09-27T13:13:25.690Z"
   },
   {
    "duration": 600,
    "start_time": "2021-09-27T13:13:26.195Z"
   },
   {
    "duration": 1497,
    "start_time": "2021-09-27T13:13:26.798Z"
   },
   {
    "duration": 357,
    "start_time": "2021-09-27T13:13:28.298Z"
   },
   {
    "duration": 630,
    "start_time": "2021-09-27T13:13:28.657Z"
   },
   {
    "duration": 604,
    "start_time": "2021-09-27T13:13:29.289Z"
   },
   {
    "duration": 1265,
    "start_time": "2021-09-27T13:13:29.895Z"
   },
   {
    "duration": 507,
    "start_time": "2021-09-27T13:13:31.163Z"
   },
   {
    "duration": 518,
    "start_time": "2021-09-27T13:13:31.673Z"
   },
   {
    "duration": 28,
    "start_time": "2021-09-27T13:13:32.194Z"
   },
   {
    "duration": 14,
    "start_time": "2021-09-27T13:13:32.225Z"
   },
   {
    "duration": 23,
    "start_time": "2021-09-27T13:13:32.242Z"
   },
   {
    "duration": 17,
    "start_time": "2021-09-27T13:13:32.268Z"
   }
  ],
  "kernelspec": {
   "display_name": "Python 3",
   "language": "python",
   "name": "python3"
  },
  "language_info": {
   "codemirror_mode": {
    "name": "ipython",
    "version": 3
   },
   "file_extension": ".py",
   "mimetype": "text/x-python",
   "name": "python",
   "nbconvert_exporter": "python",
   "pygments_lexer": "ipython3",
   "version": "3.8.5"
  },
  "toc": {
   "base_numbering": 1,
   "nav_menu": {},
   "number_sections": true,
   "sideBar": true,
   "skip_h1_title": false,
   "title_cell": "Table of Contents",
   "title_sidebar": "Contents",
   "toc_cell": false,
   "toc_position": {
    "height": "calc(100% - 180px)",
    "left": "10px",
    "top": "150px",
    "width": "165px"
   },
   "toc_section_display": true,
   "toc_window_display": true
  }
 },
 "nbformat": 4,
 "nbformat_minor": 2
}
